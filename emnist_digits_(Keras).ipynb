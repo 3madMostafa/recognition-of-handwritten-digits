{
  "nbformat": 4,
  "nbformat_minor": 0,
  "metadata": {
    "colab": {
      "provenance": []
    },
    "kernelspec": {
      "name": "python3",
      "display_name": "Python 3"
    },
    "language_info": {
      "name": "python"
    }
  },
  "cells": [
    {
      "cell_type": "code",
      "execution_count": null,
      "metadata": {
        "id": "FXV95zQzDScQ"
      },
      "outputs": [],
      "source": [
        "import numpy as np\n",
        "from keras.models import Sequential\n",
        "from keras.layers import Dense\n"
      ]
    },
    {
      "cell_type": "code",
      "source": [
        "# Load the training data\n",
        "train_data = np.loadtxt('/content/optdigits.tra', delimiter=',')"
      ],
      "metadata": {
        "id": "E_v_R3TtIMzy"
      },
      "execution_count": null,
      "outputs": []
    },
    {
      "cell_type": "code",
      "source": [
        "# Split the training data into features and labels\n",
        "X_train = train_data[:, :-1]  # Features (inputs)\n",
        "y_train = train_data[:, -1]  # Labels (outputs)"
      ],
      "metadata": {
        "id": "OnkcAwabIMwu"
      },
      "execution_count": null,
      "outputs": []
    },
    {
      "cell_type": "code",
      "source": [
        "# Load the testing data\n",
        "test_data = np.loadtxt('/content/optdigits.tes', delimiter=',')"
      ],
      "metadata": {
        "id": "FHu6hTVjIMt4"
      },
      "execution_count": null,
      "outputs": []
    },
    {
      "cell_type": "code",
      "source": [
        "# Split the testing data into features and labels\n",
        "X_test = test_data[:, :-1]  # Features (inputs)\n",
        "y_test = test_data[:, -1]  # Labels (outputs)"
      ],
      "metadata": {
        "id": "Y_QG9KgSIMrL"
      },
      "execution_count": null,
      "outputs": []
    },
    {
      "cell_type": "code",
      "source": [
        "# Design a deep learning model using Keras (e.g., Convolutional Neural Network)\n",
        "model = Sequential()\n",
        "model.add(Dense(64, activation='relu', input_dim=X_train.shape[1]))\n",
        "model.add(Dense(64, activation='relu'))\n",
        "model.add(Dense(10, activation='softmax'))"
      ],
      "metadata": {
        "id": "o9meWk_vIMoO"
      },
      "execution_count": null,
      "outputs": []
    },
    {
      "cell_type": "code",
      "source": [
        "# Compile the model\n",
        "model.compile(loss='sparse_categorical_crossentropy', optimizer='adam', metrics=['accuracy'])"
      ],
      "metadata": {
        "id": "Nth4_2xOIcNf"
      },
      "execution_count": null,
      "outputs": []
    },
    {
      "cell_type": "code",
      "source": [
        "# Train the model\n",
        "model.fit(X_train, y_train, epochs=10, batch_size=32)"
      ],
      "metadata": {
        "colab": {
          "base_uri": "https://localhost:8080/"
        },
        "id": "9zHaJFFeIcLB",
        "outputId": "59cfb7da-9be5-40fc-ada3-ef7f1beea1f8"
      },
      "execution_count": null,
      "outputs": [
        {
          "output_type": "stream",
          "name": "stdout",
          "text": [
            "Epoch 1/10\n",
            "120/120 [==============================] - 1s 4ms/step - loss: 1.2107 - accuracy: 0.6838\n",
            "Epoch 2/10\n",
            "120/120 [==============================] - 0s 3ms/step - loss: 0.1815 - accuracy: 0.9477\n",
            "Epoch 3/10\n",
            "120/120 [==============================] - 0s 3ms/step - loss: 0.1148 - accuracy: 0.9657\n",
            "Epoch 4/10\n",
            "120/120 [==============================] - 0s 4ms/step - loss: 0.0811 - accuracy: 0.9762\n",
            "Epoch 5/10\n",
            "120/120 [==============================] - 0s 3ms/step - loss: 0.0623 - accuracy: 0.9806\n",
            "Epoch 6/10\n",
            "120/120 [==============================] - 0s 3ms/step - loss: 0.0512 - accuracy: 0.9854\n",
            "Epoch 7/10\n",
            "120/120 [==============================] - 0s 3ms/step - loss: 0.0430 - accuracy: 0.9885\n",
            "Epoch 8/10\n",
            "120/120 [==============================] - 0s 4ms/step - loss: 0.0318 - accuracy: 0.9924\n",
            "Epoch 9/10\n",
            "120/120 [==============================] - 1s 5ms/step - loss: 0.0245 - accuracy: 0.9953\n",
            "Epoch 10/10\n",
            "120/120 [==============================] - 1s 6ms/step - loss: 0.0227 - accuracy: 0.9942\n"
          ]
        },
        {
          "output_type": "execute_result",
          "data": {
            "text/plain": [
              "<keras.src.callbacks.History at 0x7eda10498ac0>"
            ]
          },
          "metadata": {},
          "execution_count": 10
        }
      ]
    },
    {
      "cell_type": "code",
      "source": [
        "# Evaluate the model's performance\n",
        "loss, accuracy = model.evaluate(X_test, y_test)\n",
        "print(f'Test loss: {loss}')\n",
        "print(f'Test accuracy: {accuracy}')"
      ],
      "metadata": {
        "colab": {
          "base_uri": "https://localhost:8080/"
        },
        "id": "LqEKn-6-IcIT",
        "outputId": "8de2967b-eab0-403b-dfa9-5fbca659ce80"
      },
      "execution_count": null,
      "outputs": [
        {
          "output_type": "stream",
          "name": "stdout",
          "text": [
            "57/57 [==============================] - 0s 4ms/step - loss: 0.1282 - accuracy: 0.9583\n",
            "Test loss: 0.1282445341348648\n",
            "Test accuracy: 0.9582637548446655\n"
          ]
        }
      ]
    },
    {
      "cell_type": "code",
      "source": [],
      "metadata": {
        "id": "XlfaaF8IIcFc"
      },
      "execution_count": null,
      "outputs": []
    },
    {
      "cell_type": "code",
      "source": [],
      "metadata": {
        "id": "x36AmiNtIcCu"
      },
      "execution_count": null,
      "outputs": []
    }
  ]
}